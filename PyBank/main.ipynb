{
 "cells": [
  {
   "cell_type": "code",
   "execution_count": 82,
   "id": "83e25008-7040-4ae0-bd5c-1f3f7f7fb5f6",
   "metadata": {
    "tags": []
   },
   "outputs": [],
   "source": [
    "# import modules needed\n",
    "from pathlib import Path\n",
    "import csv"
   ]
  },
  {
   "cell_type": "code",
   "execution_count": 83,
   "id": "0b2a9a73-884c-4c85-b58e-d95ba9982da7",
   "metadata": {
    "tags": []
   },
   "outputs": [],
   "source": [
    "csvpath = Path(\"budget_data.csv\")"
   ]
  },
  {
   "cell_type": "code",
   "execution_count": 84,
   "id": "58453c80-50b6-4697-8cf6-dc3be957d7a0",
   "metadata": {
    "tags": []
   },
   "outputs": [],
   "source": [
    "month_count = 0\n",
    "running_pnl = 0\n",
    "average_pnl = 0\n",
    "running_date = str\n",
    "pnl_total = []\n",
    "date_total = []\n",
    "pnl_diff = []\n",
    "difference_count = 0\n",
    "min_pnl = 0\n",
    "max_pnl = 0\n",
    "min_date = str\n",
    "max_date = str\n",
    "pnl_diff_accum = 0"
   ]
  },
  {
   "cell_type": "code",
   "execution_count": 85,
   "id": "b6dff789-f0dd-49cb-a972-f5cdad3fe045",
   "metadata": {
    "tags": []
   },
   "outputs": [
    {
     "name": "stdout",
     "output_type": "stream",
     "text": [
      "<_csv.reader object at 0x10593c200>\n",
      "Financial Analysis\n",
      "------------\n",
      "Total Months: 86\n",
      "Total: $38382578\n",
      "Average change: $-2315.12\n",
      "Greatest increase in profits: Feb-2012 ($1926159)\n",
      "Greatest decrease in profits: Sep-2013 ($-2196167)\n"
     ]
    }
   ],
   "source": [
    "#Read in the CSV file and append columns for profit/loss and dates, with count for no. of months.\n",
    "with open(csvpath, 'r') as csvfile:\n",
    "    csvreader = csv.reader(csvfile, delimiter = ',')\n",
    "    print(csvreader)\n",
    "    header = next(csvreader)\n",
    "    header.append(\"running_pnl\")\n",
    "    for row in csvreader:\n",
    "        date = str(row[0])\n",
    "        pnl = int(row[1])\n",
    "        month_count += 1\n",
    "        running_pnl += pnl\n",
    "        row.append(running_pnl)\n",
    "        pnl_total.append(pnl)\n",
    "        date_total.append(date)\n",
    "\n",
    "#Calculate changes in profit and loss month by month\n",
    "for x in range(1,len(pnl_total)):\n",
    "\n",
    "    pnl_diff.append(pnl_total[x]-pnl_total[x-1])\n",
    "\n",
    "#Calculate the min and max profit changes and corresponding dates\n",
    "for y in pnl_diff:\n",
    "    pnl_diff_accum += y\n",
    "    difference_count += 1\n",
    "    if min_pnl == 0:\n",
    "        min_pnl = y\n",
    "        min_date = date_total[difference_count]\n",
    "    elif y > max_pnl:\n",
    "        max_pnl = y\n",
    "        max_date = date_total[difference_count]\n",
    "    elif y < min_pnl:\n",
    "        min_pnl = y\n",
    "        min_date = date_total[difference_count]\n",
    "\n",
    "#Calculate average change in profits\n",
    "average = pnl_diff_accum/difference_count\n",
    "\n",
    "print(\"Financial Analysis\")\n",
    "print(\"------------\")\n",
    "print(f\"Total Months: {month_count}\")\n",
    "print(f\"Total: ${running_pnl}\")\n",
    "print(f\"Average change: ${average:.2f}\")\n",
    "print(f\"Greatest increase in profits: {max_date} (${max_pnl})\")\n",
    "print(f\"Greatest decrease in profits: {min_date} (${min_pnl})\")\n",
    "\n",
    "# Set the output file path\n",
    "output_path = Path(\"output.txt\")\n",
    "\n",
    "# Open the output_path as a file object in \"write\" mode ('w')\n",
    "# Write the output contents into the output text file\n",
    "with open(output_path, 'w') as file:\n",
    "    file.write(f\"Financial Analysis\\n\")\n",
    "    file.write(f\"----------------\\n\") \n",
    "    file.write(f\"Total Months: {month_count}\\n\")\n",
    "    file.write(f\"Total: ${running_pnl}\\n\")\n",
    "    file.write(f\"Average change: ${average:.2f}\\n\")\n",
    "    file.write(f\"Greatest increase in profits: {max_date} (${max_pnl})\\n\")\n",
    "    file.write(f\"Greatest decrease in profits: {min_date} (${min_pnl})\\n\")\n"
   ]
  },
  {
   "cell_type": "code",
   "execution_count": null,
   "id": "ad5b9d00-3b4a-47cd-9f49-ad7d94faadbe",
   "metadata": {},
   "outputs": [],
   "source": []
  }
 ],
 "metadata": {
  "kernelspec": {
   "display_name": "Python 3 (ipykernel)",
   "language": "python",
   "name": "python3"
  },
  "language_info": {
   "codemirror_mode": {
    "name": "ipython",
    "version": 3
   },
   "file_extension": ".py",
   "mimetype": "text/x-python",
   "name": "python",
   "nbconvert_exporter": "python",
   "pygments_lexer": "ipython3",
   "version": "3.10.11"
  }
 },
 "nbformat": 4,
 "nbformat_minor": 5
}
